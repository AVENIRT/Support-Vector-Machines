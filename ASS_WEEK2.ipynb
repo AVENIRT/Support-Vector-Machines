{
  "nbformat": 4,
  "nbformat_minor": 0,
  "metadata": {
    "colab": {
      "provenance": [],
      "toc_visible": true
    },
    "kernelspec": {
      "name": "python3",
      "display_name": "Python 3"
    },
    "language_info": {
      "name": "python"
    }
  },
  "cells": [
    {
      "cell_type": "markdown",
      "source": [],
      "metadata": {
        "id": "TZiNUbCeWQ5d"
      }
    },
    {
      "cell_type": "code",
      "execution_count": 93,
      "metadata": {
        "colab": {
          "base_uri": "https://localhost:8080/"
        },
        "id": "9vAA58mDP5gk",
        "outputId": "74965596-924c-4786-a66c-7614337ffb13"
      },
      "outputs": [
        {
          "output_type": "stream",
          "name": "stderr",
          "text": [
            "/usr/local/lib/python3.9/dist-packages/sklearn/datasets/_openml.py:301: UserWarning: Multiple active versions of the dataset matching the name diabetes exist. Versions may be fundamentally different, returning version 1.\n",
            "  warn(\n",
            "/usr/local/lib/python3.9/dist-packages/sklearn/datasets/_openml.py:968: FutureWarning: The default value of `parser` will change from `'liac-arff'` to `'auto'` in 1.4. You can set `parser='auto'` to silence this warning. Therefore, an `ImportError` will be raised from 1.4 if the dataset is dense and pandas is not installed. Note that the pandas parser may return different data types. See the Notes Section in fetch_openml's API doc for details.\n",
            "  warn(\n"
          ]
        }
      ],
      "source": [
        "import pandas as pd\n",
        "import numpy as np\n",
        "\n",
        "# Data visualisation\n",
        "import seaborn as sns\n",
        "import matplotlib.pyplot as plt\n",
        "from sklearn import svm\n",
        "from sklearn.model_selection import train_test_split\n",
        "from sklearn.preprocessing import OneHotEncoder, OrdinalEncoder\n",
        "from sklearn.compose import make_column_transformer\n",
        "from sklearn.preprocessing import LabelEncoder\n",
        "from sklearn.compose import ColumnTransformer\n",
        "from sklearn.metrics import classification_report, accuracy_score,confusion_matrix\n",
        "#load diabetes dataset from OpenML\n",
        "#https://www.openml.org/d/37\n",
        "#Pima Indians Diabetes Database\n",
        "from sklearn.datasets import fetch_openml\n",
        "diabetes = fetch_openml(name='diabetes',  as_frame=True)\n"
      ]
    },
    {
      "cell_type": "markdown",
      "source": [],
      "metadata": {
        "id": "8jsoLQunWR2B"
      }
    },
    {
      "cell_type": "markdown",
      "source": [
        "# New Section"
      ],
      "metadata": {
        "id": "_LaiWvc_WTKW"
      }
    },
    {
      "cell_type": "markdown",
      "source": [],
      "metadata": {
        "id": "6yTM2fl3WGMM"
      }
    },
    {
      "cell_type": "markdown",
      "source": [],
      "metadata": {
        "id": "hyVzpYHOWHY2"
      }
    },
    {
      "cell_type": "code",
      "source": [
        "## Check the data head\n",
        "print(diabetes.frame.head)"
      ],
      "metadata": {
        "colab": {
          "base_uri": "https://localhost:8080/"
        },
        "id": "VA-F-wwIWIqt",
        "outputId": "df6d6dd4-17c9-4480-e1b4-2e2e86edad4a"
      },
      "execution_count": 3,
      "outputs": [
        {
          "output_type": "stream",
          "name": "stdout",
          "text": [
            "<bound method NDFrame.head of      preg   plas  pres  skin   insu  mass   pedi   age            class\n",
            "0     6.0  148.0  72.0  35.0    0.0  33.6  0.627  50.0  tested_positive\n",
            "1     1.0   85.0  66.0  29.0    0.0  26.6  0.351  31.0  tested_negative\n",
            "2     8.0  183.0  64.0   0.0    0.0  23.3  0.672  32.0  tested_positive\n",
            "3     1.0   89.0  66.0  23.0   94.0  28.1  0.167  21.0  tested_negative\n",
            "4     0.0  137.0  40.0  35.0  168.0  43.1  2.288  33.0  tested_positive\n",
            "..    ...    ...   ...   ...    ...   ...    ...   ...              ...\n",
            "763  10.0  101.0  76.0  48.0  180.0  32.9  0.171  63.0  tested_negative\n",
            "764   2.0  122.0  70.0  27.0    0.0  36.8  0.340  27.0  tested_negative\n",
            "765   5.0  121.0  72.0  23.0  112.0  26.2  0.245  30.0  tested_negative\n",
            "766   1.0  126.0  60.0   0.0    0.0  30.1  0.349  47.0  tested_positive\n",
            "767   1.0   93.0  70.0  31.0    0.0  30.4  0.315  23.0  tested_negative\n",
            "\n",
            "[768 rows x 9 columns]>\n"
          ]
        }
      ]
    },
    {
      "cell_type": "code",
      "source": [
        "## print data columns\n",
        "print(diabetes.frame.columns)"
      ],
      "metadata": {
        "colab": {
          "base_uri": "https://localhost:8080/"
        },
        "id": "HMa_yzzfWm2a",
        "outputId": "5d2cbede-2635-4c64-af5e-72c026d84a97"
      },
      "execution_count": 4,
      "outputs": [
        {
          "output_type": "stream",
          "name": "stdout",
          "text": [
            "Index(['preg', 'plas', 'pres', 'skin', 'insu', 'mass', 'pedi', 'age', 'class'], dtype='object')\n"
          ]
        }
      ]
    },
    {
      "cell_type": "code",
      "source": [
        "## print stastiscal analysis of our data\n",
        "\n",
        "print(diabetes.frame.describe())"
      ],
      "metadata": {
        "colab": {
          "base_uri": "https://localhost:8080/"
        },
        "id": "XRj0U6-1XMAt",
        "outputId": "b6b51849-8808-4500-a160-cc9bec8d8116"
      },
      "execution_count": 5,
      "outputs": [
        {
          "output_type": "stream",
          "name": "stdout",
          "text": [
            "             preg        plas        pres        skin        insu        mass  \\\n",
            "count  768.000000  768.000000  768.000000  768.000000  768.000000  768.000000   \n",
            "mean     3.845052  120.894531   69.105469   20.536458   79.799479   31.992578   \n",
            "std      3.369578   31.972618   19.355807   15.952218  115.244002    7.884160   \n",
            "min      0.000000    0.000000    0.000000    0.000000    0.000000    0.000000   \n",
            "25%      1.000000   99.000000   62.000000    0.000000    0.000000   27.300000   \n",
            "50%      3.000000  117.000000   72.000000   23.000000   30.500000   32.000000   \n",
            "75%      6.000000  140.250000   80.000000   32.000000  127.250000   36.600000   \n",
            "max     17.000000  199.000000  122.000000   99.000000  846.000000   67.100000   \n",
            "\n",
            "             pedi         age  \n",
            "count  768.000000  768.000000  \n",
            "mean     0.471876   33.240885  \n",
            "std      0.331329   11.760232  \n",
            "min      0.078000   21.000000  \n",
            "25%      0.243750   24.000000  \n",
            "50%      0.372500   29.000000  \n",
            "75%      0.626250   41.000000  \n",
            "max      2.420000   81.000000  \n"
          ]
        }
      ]
    },
    {
      "cell_type": "code",
      "source": [
        "### print details odf data to get more insight\n",
        "print(diabetes.details)"
      ],
      "metadata": {
        "colab": {
          "base_uri": "https://localhost:8080/"
        },
        "id": "mUFHFscUXd9H",
        "outputId": "df1f68e9-a251-452d-9c11-e6026851fce2"
      },
      "execution_count": 6,
      "outputs": [
        {
          "output_type": "stream",
          "name": "stdout",
          "text": [
            "{'id': '37', 'name': 'diabetes', 'version': '1', 'description_version': '1', 'format': 'ARFF', 'creator': 'Peter D. Turney', 'collection_date': '1995-03-01', 'upload_date': '2014-04-06T23:22:13', 'language': 'English', 'licence': 'Public', 'url': 'https://api.openml.org/data/v1/download/37/diabetes.arff', 'parquet_url': 'http://openml1.win.tue.nl/dataset37/dataset_37.pq', 'file_id': '37', 'default_target_attribute': 'class', 'version_label': '1', 'citation': 'https://www.jair.org/index.php/jair/article/view/10129', 'tag': ['mythbusting_1', 'OpenML-CC18', 'OpenML100', 'study_1', 'study_123', 'study_135', 'study_14', 'study_15', 'study_20', 'study_29', 'study_30', 'study_34', 'study_37', 'study_41', 'study_52', 'study_7', 'study_70', 'study_98', 'study_99', 'uci'], 'visibility': 'public', 'original_data_url': 'https://archive.ics.uci.edu/ml/datasets/pima+indians+diabetes', 'paper_url': 'https://www.jair.org/index.php/jair/article/view/10129', 'minio_url': 'http://openml1.win.tue.nl/dataset37/dataset_37.pq', 'status': 'active', 'processing_date': '2020-11-20 18:49:43', 'md5_checksum': '3cbaa3e54586aa88cf6aacb4033e4470'}\n"
          ]
        }
      ]
    },
    {
      "cell_type": "code",
      "source": [],
      "metadata": {
        "id": "zEaCzQeQXwkJ"
      },
      "execution_count": null,
      "outputs": []
    },
    {
      "cell_type": "markdown",
      "source": [
        "This Python code loads the diabetes dataset from OpenML using fetch_openml() from scikit-learn. The data has 8 columns with datatype object and with no missing values. The describe () here return the description of our data frame. It sets the parameter as_frame=True to load the data as a panda DataFrame."
      ],
      "metadata": {
        "id": "zOJNwNEmX8Sa"
      }
    },
    {
      "cell_type": "code",
      "source": [
        "## lets looks into data types\n",
        "\n",
        "print(diabetes.frame.dtypes)"
      ],
      "metadata": {
        "colab": {
          "base_uri": "https://localhost:8080/"
        },
        "id": "2VtJvNK_YE4G",
        "outputId": "5f281dc3-3dbd-4bec-80db-49fff8d41cbf"
      },
      "execution_count": 20,
      "outputs": [
        {
          "output_type": "stream",
          "name": "stdout",
          "text": [
            "preg      float64\n",
            "plas      float64\n",
            "pres      float64\n",
            "skin      float64\n",
            "insu      float64\n",
            "mass      float64\n",
            "pedi      float64\n",
            "age       float64\n",
            "class    category\n",
            "dtype: object\n"
          ]
        }
      ]
    },
    {
      "cell_type": "code",
      "source": [
        "## Before going any further, check if there are  null values in the data \n",
        "\n",
        "print(diabetes.frame.isnull)"
      ],
      "metadata": {
        "colab": {
          "base_uri": "https://localhost:8080/"
        },
        "id": "8L4NxZY3bAlz",
        "outputId": "a887bf56-bf31-4070-ecbf-7529bbff6ca9"
      },
      "execution_count": 21,
      "outputs": [
        {
          "output_type": "stream",
          "name": "stdout",
          "text": [
            "<bound method DataFrame.isnull of      preg   plas  pres  skin   insu  mass   pedi   age            class\n",
            "0     6.0  148.0  72.0  35.0    0.0  33.6  0.627  50.0  tested_positive\n",
            "1     1.0   85.0  66.0  29.0    0.0  26.6  0.351  31.0  tested_negative\n",
            "2     8.0  183.0  64.0   0.0    0.0  23.3  0.672  32.0  tested_positive\n",
            "3     1.0   89.0  66.0  23.0   94.0  28.1  0.167  21.0  tested_negative\n",
            "4     0.0  137.0  40.0  35.0  168.0  43.1  2.288  33.0  tested_positive\n",
            "..    ...    ...   ...   ...    ...   ...    ...   ...              ...\n",
            "763  10.0  101.0  76.0  48.0  180.0  32.9  0.171  63.0  tested_negative\n",
            "764   2.0  122.0  70.0  27.0    0.0  36.8  0.340  27.0  tested_negative\n",
            "765   5.0  121.0  72.0  23.0  112.0  26.2  0.245  30.0  tested_negative\n",
            "766   1.0  126.0  60.0   0.0    0.0  30.1  0.349  47.0  tested_positive\n",
            "767   1.0   93.0  70.0  31.0    0.0  30.4  0.315  23.0  tested_negative\n",
            "\n",
            "[768 rows x 9 columns]>\n"
          ]
        }
      ]
    },
    {
      "cell_type": "markdown",
      "source": [
        "there is not null values in our data"
      ],
      "metadata": {
        "id": "GiTJLwrSbmWP"
      }
    },
    {
      "cell_type": "markdown",
      "source": [
        "We have only one categorical data which is class"
      ],
      "metadata": {
        "id": "QKt966FWZjQl"
      }
    },
    {
      "cell_type": "markdown",
      "source": [
        " Encoding ordinal variable\n",
        "The only ordinal variable in our dataset is the class of education feature."
      ],
      "metadata": {
        "id": "ke-W6isWvpeY"
      }
    },
    {
      "cell_type": "code",
      "source": [
        "### define our x imput and y output\n",
        "\n",
        "x = diabetes.frame.drop('class', axis = 1)\n",
        "y = diabetes.frame['class']"
      ],
      "metadata": {
        "id": "Ebb__P5q-KFW"
      },
      "execution_count": 54,
      "outputs": []
    },
    {
      "cell_type": "code",
      "source": [
        "\n",
        "# Instantiate LabelEncoder\n",
        "class_le= LabelEncoder()\n"
      ],
      "metadata": {
        "id": "Y3Wwn9sbZrHo"
      },
      "execution_count": 55,
      "outputs": []
    },
    {
      "cell_type": "code",
      "source": [
        "# Apply LabelEncoder to the class column \n",
        "x= class_le.fit_transform(diabetes.frame['class'].values)\n",
        "\n",
        "\n"
      ],
      "metadata": {
        "id": "4ZTsnHABv7qn"
      },
      "execution_count": 56,
      "outputs": []
    },
    {
      "cell_type": "code",
      "source": [
        "## print x\n",
        "x"
      ],
      "metadata": {
        "colab": {
          "base_uri": "https://localhost:8080/"
        },
        "id": "stsJpBOKxOkH",
        "outputId": "35681049-d568-4732-b684-40eaa4ec4a25"
      },
      "execution_count": 57,
      "outputs": [
        {
          "output_type": "execute_result",
          "data": {
            "text/plain": [
              "array([1, 0, 1, 0, 1, 0, 1, 0, 1, 1, 0, 1, 0, 1, 1, 1, 1, 1, 0, 1, 0, 0,\n",
              "       1, 1, 1, 1, 1, 0, 0, 0, 0, 1, 0, 0, 0, 0, 0, 1, 1, 1, 0, 0, 0, 1,\n",
              "       0, 1, 0, 0, 1, 0, 0, 0, 0, 1, 0, 0, 1, 0, 0, 0, 0, 1, 0, 0, 1, 0,\n",
              "       1, 0, 0, 0, 1, 0, 1, 0, 0, 0, 0, 0, 1, 0, 0, 0, 0, 0, 1, 0, 0, 0,\n",
              "       1, 0, 0, 0, 0, 1, 0, 0, 0, 0, 0, 1, 1, 0, 0, 0, 0, 0, 0, 0, 0, 1,\n",
              "       1, 1, 0, 0, 1, 1, 1, 0, 0, 0, 1, 0, 0, 0, 1, 1, 0, 0, 1, 1, 1, 1,\n",
              "       1, 0, 0, 0, 0, 0, 0, 0, 0, 0, 0, 1, 0, 0, 0, 0, 0, 0, 0, 0, 1, 0,\n",
              "       1, 1, 0, 0, 0, 1, 0, 0, 0, 0, 1, 1, 0, 0, 0, 0, 1, 1, 0, 0, 0, 1,\n",
              "       0, 1, 0, 1, 0, 0, 0, 0, 0, 1, 1, 1, 1, 1, 0, 0, 1, 1, 0, 1, 0, 1,\n",
              "       1, 1, 0, 0, 0, 0, 0, 0, 1, 1, 0, 1, 0, 0, 0, 1, 1, 1, 1, 0, 1, 1,\n",
              "       1, 1, 0, 0, 0, 0, 0, 1, 0, 0, 1, 1, 0, 0, 0, 1, 1, 1, 1, 0, 0, 0,\n",
              "       1, 1, 0, 1, 0, 0, 0, 0, 0, 0, 0, 0, 1, 1, 0, 0, 0, 1, 0, 1, 0, 0,\n",
              "       1, 0, 1, 0, 0, 1, 1, 0, 0, 0, 0, 0, 1, 0, 0, 0, 1, 0, 0, 1, 1, 0,\n",
              "       0, 1, 0, 0, 0, 1, 1, 1, 0, 0, 1, 0, 1, 0, 1, 1, 0, 1, 0, 0, 1, 0,\n",
              "       1, 1, 0, 0, 1, 0, 1, 0, 0, 1, 0, 1, 0, 1, 1, 1, 0, 0, 1, 0, 1, 0,\n",
              "       0, 0, 1, 0, 0, 0, 0, 1, 1, 1, 0, 0, 0, 0, 0, 0, 0, 0, 0, 1, 0, 0,\n",
              "       0, 0, 0, 1, 1, 1, 0, 1, 1, 0, 0, 1, 0, 0, 1, 0, 0, 1, 1, 0, 0, 0,\n",
              "       0, 1, 0, 0, 1, 0, 0, 0, 0, 0, 0, 0, 1, 1, 1, 0, 0, 1, 0, 0, 1, 0,\n",
              "       0, 1, 0, 1, 1, 0, 1, 0, 1, 0, 1, 0, 1, 1, 0, 0, 0, 0, 1, 1, 0, 1,\n",
              "       0, 1, 0, 0, 0, 0, 1, 1, 0, 1, 0, 1, 0, 0, 0, 0, 0, 1, 0, 0, 0, 0,\n",
              "       1, 0, 0, 1, 1, 1, 0, 0, 1, 0, 0, 1, 0, 0, 0, 1, 0, 0, 1, 0, 0, 0,\n",
              "       0, 0, 0, 0, 0, 0, 1, 0, 0, 0, 0, 0, 0, 0, 1, 0, 0, 0, 1, 0, 0, 0,\n",
              "       1, 1, 0, 0, 0, 0, 0, 0, 0, 1, 0, 0, 0, 0, 1, 0, 0, 0, 1, 0, 0, 0,\n",
              "       1, 0, 0, 0, 1, 0, 0, 0, 0, 1, 1, 0, 0, 0, 0, 0, 0, 1, 0, 0, 0, 0,\n",
              "       0, 0, 0, 0, 0, 0, 0, 1, 0, 0, 0, 1, 1, 1, 1, 0, 0, 1, 1, 0, 0, 0,\n",
              "       0, 0, 0, 0, 0, 0, 0, 0, 0, 0, 1, 1, 0, 0, 0, 0, 0, 0, 0, 1, 0, 0,\n",
              "       0, 0, 0, 0, 0, 1, 0, 1, 1, 0, 0, 0, 1, 0, 1, 0, 1, 0, 1, 0, 1, 0,\n",
              "       0, 1, 0, 0, 1, 0, 0, 0, 0, 1, 1, 0, 1, 0, 0, 0, 0, 1, 1, 0, 1, 0,\n",
              "       0, 0, 1, 1, 0, 0, 0, 0, 0, 0, 0, 0, 0, 0, 1, 0, 0, 0, 0, 1, 0, 0,\n",
              "       1, 0, 0, 0, 1, 0, 0, 0, 1, 1, 1, 0, 0, 0, 0, 0, 0, 1, 0, 0, 0, 1,\n",
              "       0, 1, 1, 1, 1, 0, 1, 1, 0, 0, 0, 0, 0, 0, 0, 1, 1, 0, 1, 0, 0, 1,\n",
              "       0, 1, 0, 0, 0, 0, 0, 1, 0, 1, 0, 1, 0, 1, 1, 0, 0, 0, 0, 1, 1, 0,\n",
              "       0, 0, 1, 0, 1, 1, 0, 0, 1, 0, 0, 1, 1, 0, 0, 1, 0, 0, 1, 0, 0, 0,\n",
              "       0, 0, 0, 0, 1, 1, 1, 0, 0, 0, 0, 0, 0, 1, 1, 0, 0, 1, 0, 0, 1, 0,\n",
              "       1, 1, 1, 0, 0, 1, 1, 1, 0, 1, 0, 1, 0, 1, 0, 0, 0, 0, 1, 0])"
            ]
          },
          "metadata": {},
          "execution_count": 57
        }
      ]
    },
    {
      "cell_type": "code",
      "source": [
        "\n",
        "# Instantiate OneHotEncoder\n",
        "\n",
        "ohe = OneHotEncoder()"
      ],
      "metadata": {
        "id": "rb0UTF-TxTSU"
      },
      "execution_count": 76,
      "outputs": []
    },
    {
      "cell_type": "code",
      "source": [
        "# Apply OneHotEncoder to the class column \n",
        "\n",
        "ohe.fit_transform(diabetes.frame[['class']])[:5]"
      ],
      "metadata": {
        "colab": {
          "base_uri": "https://localhost:8080/"
        },
        "id": "Zsz_hXekb5DC",
        "outputId": "899fdf36-143d-4aa7-8e7b-e9be32412639"
      },
      "execution_count": 89,
      "outputs": [
        {
          "output_type": "execute_result",
          "data": {
            "text/plain": [
              "<5x2 sparse matrix of type '<class 'numpy.float64'>'\n",
              "\twith 5 stored elements in Compressed Sparse Row format>"
            ]
          },
          "metadata": {},
          "execution_count": 89
        }
      ]
    },
    {
      "cell_type": "code",
      "source": [
        "# The first 5 rows the class column for comparison\n",
        "\n",
        "diabetes.frame['class'].head()"
      ],
      "metadata": {
        "colab": {
          "base_uri": "https://localhost:8080/"
        },
        "id": "5W87h3bRyd-4",
        "outputId": "3702690d-fbbc-4b85-f731-500f777fbcf0"
      },
      "execution_count": 90,
      "outputs": [
        {
          "output_type": "execute_result",
          "data": {
            "text/plain": [
              "0    tested_positive\n",
              "1    tested_negative\n",
              "2    tested_positive\n",
              "3    tested_negative\n",
              "4    tested_positive\n",
              "Name: class, dtype: category\n",
              "Categories (2, object): ['tested_negative', 'tested_positive']"
            ]
          },
          "metadata": {},
          "execution_count": 90
        }
      ]
    },
    {
      "cell_type": "code",
      "source": [
        "# class categories in OneHotEncoder \n",
        "\n",
        "ohe.categories_"
      ],
      "metadata": {
        "colab": {
          "base_uri": "https://localhost:8080/"
        },
        "id": "aEvUjgD_yu7S",
        "outputId": "faee6489-1f5b-48d6-915f-4a2501f413d7"
      },
      "execution_count": 79,
      "outputs": [
        {
          "output_type": "execute_result",
          "data": {
            "text/plain": [
              "[array(['tested_negative', 'tested_positive'], dtype=object)]"
            ]
          },
          "metadata": {},
          "execution_count": 79
        }
      ]
    },
    {
      "cell_type": "markdown",
      "source": [],
      "metadata": {
        "id": "XZP98laBXw0H"
      }
    },
    {
      "cell_type": "markdown",
      "source": [
        "Partion dataset into separate training and test datasets\n"
      ],
      "metadata": {
        "id": "U21FciiO5SMl"
      }
    },
    {
      "cell_type": "code",
      "source": [
        "\n",
        "\n",
        "# Train test split \n",
        "\n",
        "x_train, x_test, y_train, y_test = train_test_split(x, y, test_size = 0.3, random_state = 42)"
      ],
      "metadata": {
        "id": "aajavJOR5bxx"
      },
      "execution_count": 80,
      "outputs": []
    },
    {
      "cell_type": "code",
      "source": [
        "### print data shape\n",
        "print(\"X_train shape: \", x_train.shape)\n",
        "print(\"Y_train shape: \", y_train.shape)\n",
        "print(\"X_test shape: \", x_test.shape)\n",
        "print(\"Y_test shape: \", y_test.shape)"
      ],
      "metadata": {
        "colab": {
          "base_uri": "https://localhost:8080/"
        },
        "id": "MEPwrlzt6ix4",
        "outputId": "caee12ee-0c92-4cfb-857d-9aa657228684"
      },
      "execution_count": 81,
      "outputs": [
        {
          "output_type": "stream",
          "name": "stdout",
          "text": [
            "X_train shape:  (537, 8)\n",
            "Y_train shape:  (537,)\n",
            "X_test shape:  (231, 8)\n",
            "Y_test shape:  (231,)\n"
          ]
        }
      ]
    },
    {
      "cell_type": "code",
      "source": [
        "### Instantiate pipeline testing with SVM\n",
        "\n",
        "svm_model = svm.SVC(decision_function_shape='ovo')\n",
        "svm_model.fit(x_train, y_train)\n",
        "\n",
        "#we predict the test set\n",
        "predict_test = svm_model.predict(x_test)\n",
        "\n",
        "\n"
      ],
      "metadata": {
        "id": "5NQIrucG7WoH"
      },
      "execution_count": 102,
      "outputs": []
    },
    {
      "cell_type": "code",
      "source": [
        "#we predict the test set with rbf kermel and ovo decision\n",
        "predict_test = svm_model.predict(x_test)\n",
        "y_pred = svm_model.predict(x_test)\n",
        "print(\"Accuracy score with rbf kernel and ovo decision_function_shape: \", accuracy_score(y_test, y_pred))\n"
      ],
      "metadata": {
        "colab": {
          "base_uri": "https://localhost:8080/"
        },
        "id": "smvfI_wECHmZ",
        "outputId": "91fe1a1c-986b-4c0b-a74c-c9142e1c9643"
      },
      "execution_count": 105,
      "outputs": [
        {
          "output_type": "stream",
          "name": "stdout",
          "text": [
            "Accuracy score with rbf kernel and ovo decision_function_shape:  0.7359307359307359\n"
          ]
        }
      ]
    },
    {
      "cell_type": "code",
      "source": [
        "## predict decison test with poly kernel and ovo decision\n",
        "\n",
        "svm_model = svm.SVC(kernel='poly', decision_function_shape='ovo')\n",
        "svm_model.fit(x_train, y_train)\n",
        "y_pred = svm_model.predict(x_test)\n",
        "print(\"Accuracy score with poly kernel and ovo decision_function_shape: \", accuracy_score(y_test, y_pred))\n"
      ],
      "metadata": {
        "colab": {
          "base_uri": "https://localhost:8080/"
        },
        "id": "l0wHI6edEhLI",
        "outputId": "8dfc2350-67c8-400a-baa6-c3954d9c39bd"
      },
      "execution_count": 97,
      "outputs": [
        {
          "output_type": "stream",
          "name": "stdout",
          "text": [
            "Accuracy score with poly kernel and ovo decision_function_shape:  0.7489177489177489\n"
          ]
        }
      ]
    },
    {
      "cell_type": "code",
      "source": [
        "### with linear kernel and ovo decision\n",
        "svm_model = svm.SVC(kernel='linear', decision_function_shape='ovo')\n",
        "svm_model.fit(x_train, y_train)\n",
        "y_pred = svm_model.predict(x_test)\n",
        "print(\"Accuracy score with linear kernel and ovo decision_function_shape: \", accuracy_score(y_test, y_pred))\n",
        "\n"
      ],
      "metadata": {
        "colab": {
          "base_uri": "https://localhost:8080/"
        },
        "id": "PMcDfJlgCri5",
        "outputId": "40a85857-d339-48d7-ae9c-4c408f5dba3f"
      },
      "execution_count": 106,
      "outputs": [
        {
          "output_type": "stream",
          "name": "stdout",
          "text": [
            "Accuracy score with linear kernel and ovo decision_function_shape:  0.7445887445887446\n"
          ]
        }
      ]
    },
    {
      "cell_type": "code",
      "source": [
        "# Fit SVM model with ovr decision function shape\n",
        "svm_model = svm.SVC(kernel='linear', decision_function_shape='ovr')\n",
        "svm_model.fit(x_train, y_train)\n",
        "y_pred = svm_model.predict(x_test)\n",
        "print(\"Accuracy score with linear kernel and ovr decision_function_shape: \", accuracy_score(y_test, y_pred))"
      ],
      "metadata": {
        "colab": {
          "base_uri": "https://localhost:8080/"
        },
        "id": "tZmmRqt7FPdY",
        "outputId": "82e0026c-63c6-4101-845f-dae4430f9384"
      },
      "execution_count": 107,
      "outputs": [
        {
          "output_type": "stream",
          "name": "stdout",
          "text": [
            "Accuracy score with linear kernel and ovr decision_function_shape:  0.7445887445887446\n"
          ]
        }
      ]
    },
    {
      "cell_type": "code",
      "source": [
        "#### fit with rbf\n",
        "\n",
        "svm_model = svm.SVC(kernel='rbf', decision_function_shape='ovr')\n",
        "svm_model.fit(x_train, y_train)\n",
        "y_pred = svm_model.predict(x_test)\n",
        "print(\"Accuracy score with rbf kernel and ovr decision_function_shape: \", accuracy_score(y_test, y_pred))\n"
      ],
      "metadata": {
        "colab": {
          "base_uri": "https://localhost:8080/"
        },
        "id": "G8VePROfFkDy",
        "outputId": "cdbdb596-140c-41af-e07d-c374aadd6355"
      },
      "execution_count": 108,
      "outputs": [
        {
          "output_type": "stream",
          "name": "stdout",
          "text": [
            "Accuracy score with rbf kernel and ovr decision_function_shape:  0.7359307359307359\n"
          ]
        }
      ]
    },
    {
      "cell_type": "code",
      "source": [
        "##### print training accuracy with svm model and ovo decision _function_shape\n",
        "\n",
        "svm_model = svm.SVC(decision_function_shape='ovo')\n",
        "svm_model.fit(x_train, y_train)\n",
        "\n",
        "svm_model = svm.SVC(decision_function_shape='ovo')\n",
        "svm_model.fit(x_train, y_train)\n",
        "\n",
        "### we need predict train set\n",
        "\n",
        "predict_train= svm_model.predict(x_train)\n",
        "\n",
        "### we need predict test\n",
        "\n",
        "predict_test=svm_model.predict(x_test)\n",
        "\n",
        "\n",
        "\n",
        "from sklearn.metrics import classification_report,confusion_matrix\n",
        "\n",
        "print('Training accuracy')\n",
        "\n",
        "#we report the confusion matrix for the training set\n",
        "\n",
        "print(confusion_matrix(y_train, predict_train))\n",
        "#we report various accuracy statistics for the training set\n",
        "print(classification_report(y_train, predict_train))\n",
        "\n",
        "print('Testing accuracy')\n",
        "#we report the confusion matrix for the test set\n",
        "print(confusion_matrix(y_test,predict_test))\n",
        "#we report various accuracy statistics for the test set\n",
        "print(classification_report(y_test,predict_test))"
      ],
      "metadata": {
        "colab": {
          "base_uri": "https://localhost:8080/"
        },
        "id": "YHRtetBUFdr4",
        "outputId": "fba8536e-0d13-4005-b298-956d21879feb"
      },
      "execution_count": 111,
      "outputs": [
        {
          "output_type": "stream",
          "name": "stdout",
          "text": [
            "Training accuracy\n",
            "[[326  23]\n",
            " [ 95  93]]\n",
            "                 precision    recall  f1-score   support\n",
            "\n",
            "tested_negative       0.77      0.93      0.85       349\n",
            "tested_positive       0.80      0.49      0.61       188\n",
            "\n",
            "       accuracy                           0.78       537\n",
            "      macro avg       0.79      0.71      0.73       537\n",
            "   weighted avg       0.78      0.78      0.76       537\n",
            "\n",
            "Testing accuracy\n",
            "[[131  20]\n",
            " [ 41  39]]\n",
            "                 precision    recall  f1-score   support\n",
            "\n",
            "tested_negative       0.76      0.87      0.81       151\n",
            "tested_positive       0.66      0.49      0.56        80\n",
            "\n",
            "       accuracy                           0.74       231\n",
            "      macro avg       0.71      0.68      0.69       231\n",
            "   weighted avg       0.73      0.74      0.72       231\n",
            "\n"
          ]
        }
      ]
    }
  ]
}